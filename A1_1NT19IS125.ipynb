{
 "cells": [
  {
   "cell_type": "code",
   "execution_count": 2,
   "id": "74abaea4",
   "metadata": {},
   "outputs": [
    {
     "name": "stdout",
     "output_type": "stream",
     "text": [
      "moon\n"
     ]
    }
   ],
   "source": [
    "print(\"moon\")\n"
   ]
  },
  {
   "cell_type": "code",
   "execution_count": 60,
   "id": "1c35f60a",
   "metadata": {},
   "outputs": [
    {
     "name": "stdout",
     "output_type": "stream",
     "text": [
      "Mean: 8.0\n",
      "Median: 10\n",
      "Mode: 10\n",
      "Varience: 16.0\n",
      "Standard Deviation: 4.0\n",
      "Normalization: [0.0, 0.4, 0.6, 0.8, 0.8, 1.0]\n",
      "Standardization: [-1.5, -0.5, 0.0, 0.5, 0.5, 1.0]\n"
     ]
    }
   ],
   "source": [
    "def stand_dev(arr):\n",
    "    sum1 =0\n",
    "    mean =0\n",
    "    len1=len(arr)\n",
    "    l=[]\n",
    "    l1=[]\n",
    "    l2=[]\n",
    "    l3=[]\n",
    "    sum2=0\n",
    "    for i in range(len1):\n",
    "        sum1+=arr[i]\n",
    "    mean=sum1/len1   #MEAN\n",
    "    print(\"Mean:\",mean)\n",
    "    median=(len1)//2  #MEDIAN\n",
    "    print(\"Median:\",arr[median])\n",
    "    for i in range(len1):    #MODE\n",
    "        if arr[i] not in l:\n",
    "            l.append(arr[i])\n",
    "        else:\n",
    "            res=arr[i]\n",
    "    print(\"Mode:\",res)\n",
    "    \n",
    "    for j in range(len1):     #VARIENCE\n",
    "        res1=(arr[j]-mean)**2\n",
    "        l1.append(res1)\n",
    "    \n",
    "    for k in range(len(l1)):\n",
    "        sum2+=l1[i]\n",
    "    var = sum2/len1\n",
    "    print(\"Varience:\",var)\n",
    "    std=var**0.5                 #STANDARD DEVIATION\n",
    "    print(\"Standard Deviation:\",std)\n",
    "    \n",
    "    for i in range(len1):        #NORMALIZATION\n",
    "        nor = ((arr[i]-min(arr))/(max(arr)-min(arr)))\n",
    "        l2.append(nor)\n",
    "    print(\"Normalization:\",l2)\n",
    "    \n",
    "    for i in range(len1):        #STANDARDIZATION\n",
    "        S = (arr[i]-mean)/std\n",
    "        l3.append(S)\n",
    "    print(\"Standardization:\",l3)\n",
    "    \n",
    "arr =[2,6,8,10,10,12]\n",
    "stand_dev(arr)"
   ]
  },
  {
   "cell_type": "code",
   "execution_count": null,
   "id": "0a847cd3",
   "metadata": {},
   "outputs": [],
   "source": []
  }
 ],
 "metadata": {
  "kernelspec": {
   "display_name": "Python 3 (ipykernel)",
   "language": "python",
   "name": "python3"
  },
  "language_info": {
   "codemirror_mode": {
    "name": "ipython",
    "version": 3
   },
   "file_extension": ".py",
   "mimetype": "text/x-python",
   "name": "python",
   "nbconvert_exporter": "python",
   "pygments_lexer": "ipython3",
   "version": "3.7.11"
  }
 },
 "nbformat": 4,
 "nbformat_minor": 5
}
